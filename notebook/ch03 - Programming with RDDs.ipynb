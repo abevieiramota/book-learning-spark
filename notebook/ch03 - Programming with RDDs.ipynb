{
 "cells": [
  {
   "cell_type": "code",
   "execution_count": 35,
   "metadata": {
    "collapsed": true
   },
   "outputs": [],
   "source": [
    "import pandas as pd\n",
    "import numpy as np\n",
    "import re"
   ]
  },
  {
   "cell_type": "code",
   "execution_count": 16,
   "metadata": {
    "collapsed": true
   },
   "outputs": [],
   "source": [
    "lines = sc.textFile('bem_candidato_2016_CE_utf8.txt')"
   ]
  },
  {
   "cell_type": "code",
   "execution_count": 17,
   "metadata": {
    "collapsed": false
   },
   "outputs": [
    {
     "data": {
      "text/plain": [
       "26155"
      ]
     },
     "execution_count": 17,
     "metadata": {},
     "output_type": "execute_result"
    }
   ],
   "source": [
    "lines.count()"
   ]
  },
  {
   "cell_type": "code",
   "execution_count": 21,
   "metadata": {
    "collapsed": false
   },
   "outputs": [
    {
     "data": {
      "text/plain": [
       "'\"09/09/2016\";\"19:31:01\";\"2016\";\"Eleições Municipais 2016\";\"CE\";\"60000001105\";\"21\";\"Veículo automotor terrestre: caminhão, automóvel, moto, etc.\";\"UMA MOTO HONDA BIZ 2005\";\"2000\";\"08/09/2016\";\"18:43:44\"'"
      ]
     },
     "execution_count": 21,
     "metadata": {},
     "output_type": "execute_result"
    }
   ],
   "source": [
    "lines.first()"
   ]
  },
  {
   "cell_type": "code",
   "execution_count": 22,
   "metadata": {
    "collapsed": true
   },
   "outputs": [],
   "source": [
    "os_mota = lines.filter(lambda line: 'MOTA' in line)"
   ]
  },
  {
   "cell_type": "code",
   "execution_count": 23,
   "metadata": {
    "collapsed": false
   },
   "outputs": [
    {
     "data": {
      "text/plain": [
       "'\"09/09/2016\";\"19:31:01\";\"2016\";\"Eleições Municipais 2016\";\"CE\";\"60000001601\";\"11\";\"Apartamento\";\"UM APTO SITO A RUA DEUSDEDIT COSTA SOUSA,N°55, FORT CE,FINANCIOADO PELA CAIXA ECONOMICA FEDERAL,JUNTO A CONSTRUTORA MOTA MACHADO\";\"131124.37\";\"04/09/2016\";\"16:20:49\"'"
      ]
     },
     "execution_count": 23,
     "metadata": {},
     "output_type": "execute_result"
    }
   ],
   "source": [
    "os_mota.first()"
   ]
  },
  {
   "cell_type": "code",
   "execution_count": 30,
   "metadata": {
    "collapsed": true
   },
   "outputs": [],
   "source": [
    "os_vieira = lines.filter(lambda line: 'VIEIRA' in line)"
   ]
  },
  {
   "cell_type": "code",
   "execution_count": 31,
   "metadata": {
    "collapsed": true
   },
   "outputs": [],
   "source": [
    "os_vieira_ou_mota = os_vieira.union(os_mota)"
   ]
  },
  {
   "cell_type": "code",
   "execution_count": 32,
   "metadata": {
    "collapsed": false
   },
   "outputs": [
    {
     "data": {
      "text/plain": [
       "'\"09/09/2016\";\"19:31:01\";\"2016\";\"Eleições Municipais 2016\";\"CE\";\"60000001518\";\"13\";\"Terreno\";\"IMÓVEL LOCALIZADO NA VILA PADRE VIEIRA, S/N, VIÇOSA DO CEARÁ - CE\";\"35000\";\"04/09/2016\";\"16:20:49\"'"
      ]
     },
     "execution_count": 32,
     "metadata": {},
     "output_type": "execute_result"
    }
   ],
   "source": [
    "os_vieira_ou_mota.first()"
   ]
  },
  {
   "cell_type": "code",
   "execution_count": 34,
   "metadata": {
    "collapsed": false
   },
   "outputs": [
    {
     "name": "stdout",
     "output_type": "stream",
     "text": [
      "\"Terreno\"\n",
      "\"Casa\"\n",
      "\"Terreno\"\n",
      "\"Casa\"\n",
      "\"Terreno\"\n",
      "\"Quotas ou quinhões de capital\"\n",
      "\"Casa\"\n",
      "\"Outros bens móveis\"\n",
      "\"Quotas ou quinhões de capital\"\n",
      "\"Outras participações societárias\"\n"
     ]
    }
   ],
   "source": [
    "for line in os_vieira_ou_mota.take(10):\n",
    "    \n",
    "    print(line.split(';')[7])"
   ]
  },
  {
   "cell_type": "code",
   "execution_count": 42,
   "metadata": {
    "collapsed": true
   },
   "outputs": [],
   "source": [
    "s = 'abelardo v'"
   ]
  },
  {
   "cell_type": "code",
   "execution_count": 50,
   "metadata": {
    "collapsed": true
   },
   "outputs": [],
   "source": [
    "re_valor_com_decimal = re.compile(r'\\d*\\.\\d+')\n",
    "def valor_com_decimal(line):\n",
    "    \n",
    "    return re_valor_com_decimal.match(line.split(';')[-3][1:-1])"
   ]
  },
  {
   "cell_type": "code",
   "execution_count": 51,
   "metadata": {
    "collapsed": true
   },
   "outputs": [],
   "source": [
    "os_decimal = lines.filter(valor_com_decimal)"
   ]
  },
  {
   "cell_type": "code",
   "execution_count": 52,
   "metadata": {
    "collapsed": false
   },
   "outputs": [
    {
     "data": {
      "text/plain": [
       "['\"09/09/2016\";\"19:31:01\";\"2016\";\"Eleições Municipais 2016\";\"CE\";\"60000001115\";\"12\";\"Casa\";\"CASA NO CONDOMINIO LAGOA SECA-MINHA CASA MINHA VIDA\";\"11978.38\";\"04/09/2016\";\"16:20:49\"',\n",
       " '\"09/09/2016\";\"19:31:01\";\"2016\";\"Eleições Municipais 2016\";\"CE\";\"60000001140\";\"41\";\"Caderneta de poupança\";\"POPUPANÇA BB  - FORTALEZA, AGENCIA 3140, CONTA 27699-3\";\"1454.64\";\"04/09/2016\";\"16:20:49\"',\n",
       " '\"09/09/2016\";\"19:31:01\";\"2016\";\"Eleições Municipais 2016\";\"CE\";\"60000001140\";\"49\";\"Outras aplicações e Investimentos\";\"BB OUROCAP TORCIDA\";\"30942.36\";\"04/09/2016\";\"16:20:49\"',\n",
       " '\"09/09/2016\";\"19:31:01\";\"2016\";\"Eleições Municipais 2016\";\"CE\";\"60000001141\";\"19\";\"Outros bens imóveis\";\"COMPRA DE TERRENO NO VALOR DE 20.000,00 MEDINDO 24,00M X 30,00M NA CIDADE DE CRATEUS/CE\";\"76277.5\";\"04/09/2016\";\"16:20:49\"',\n",
       " '\"09/09/2016\";\"19:31:01\";\"2016\";\"Eleições Municipais 2016\";\"CE\";\"60000001141\";\"19\";\"Outros bens imóveis\";\"COMPRA DE APTO Nº 1401, TIPO B, LOCALIZADO NO EDIFICIO PORTE DE LYON, NA RUA NUNES VALENTE  2500, DIONISIO TORRES\";\"505800.46\";\"04/09/2016\";\"16:20:49\"',\n",
       " '\"09/09/2016\";\"19:31:01\";\"2016\";\"Eleições Municipais 2016\";\"CE\";\"60000001141\";\"45\";\"Aplicação de renda fixa (CDB, RDB e outros)\";\"OUROCAP TORCIDA CNPJ Nº 15.138.043/0001-05\";\"7450.81\";\"04/09/2016\";\"16:20:49\"',\n",
       " '\"09/09/2016\";\"19:31:01\";\"2016\";\"Eleições Municipais 2016\";\"CE\";\"60000001141\";\"19\";\"Outros bens imóveis\";\"TERRENO RUBANO LOTEAMENTO CONVIVER TAUA II, AREA 299,21 M2\";\"20802.96\";\"04/09/2016\";\"16:20:49\"',\n",
       " '\"09/09/2016\";\"19:31:01\";\"2016\";\"Eleições Municipais 2016\";\"CE\";\"60000001141\";\"19\";\"Outros bens imóveis\";\"TERRENO URBANO, LOTE 10, QUADRA 2, LOTEAMENTO CONVIVER TAUA II, AREA 242,41\";\"17269.2\";\"04/09/2016\";\"16:20:49\"',\n",
       " '\"09/09/2016\";\"19:31:01\";\"2016\";\"Eleições Municipais 2016\";\"CE\";\"60000001141\";\"19\";\"Outros bens imóveis\";\"TERRENO URBANO, LOTE 05, QUADRA 2, LOTEAMENTO CONVIVER TAUA II, AREA 200,00\";\"19705.49\";\"04/09/2016\";\"16:20:49\"',\n",
       " '\"09/09/2016\";\"19:31:01\";\"2016\";\"Eleições Municipais 2016\";\"CE\";\"60000001141\";\"61\";\"Depósito bancário em conta corrente no País\";\"SALDO CAIXA ECONOMICA\";\"1423.23\";\"04/09/2016\";\"16:20:49\"']"
      ]
     },
     "execution_count": 52,
     "metadata": {},
     "output_type": "execute_result"
    }
   ],
   "source": [
    "os_decimal.take(10)"
   ]
  },
  {
   "cell_type": "code",
   "execution_count": 55,
   "metadata": {
    "collapsed": true
   },
   "outputs": [],
   "source": [
    "columns = lines.map(lambda line: [col[1:-1] for col in line.split(';')])"
   ]
  },
  {
   "cell_type": "code",
   "execution_count": 56,
   "metadata": {
    "collapsed": false
   },
   "outputs": [
    {
     "data": {
      "text/plain": [
       "[['09/09/2016',\n",
       "  '19:31:01',\n",
       "  '2016',\n",
       "  'Eleições Municipais 2016',\n",
       "  'CE',\n",
       "  '60000001105',\n",
       "  '21',\n",
       "  'Veículo automotor terrestre: caminhão, automóvel, moto, etc.',\n",
       "  'UMA MOTO HONDA BIZ 2005',\n",
       "  '2000',\n",
       "  '08/09/2016',\n",
       "  '18:43:44'],\n",
       " ['09/09/2016',\n",
       "  '19:31:01',\n",
       "  '2016',\n",
       "  'Eleições Municipais 2016',\n",
       "  'CE',\n",
       "  '60000001105',\n",
       "  '61',\n",
       "  'Depósito bancário em conta corrente no País',\n",
       "  'CONTA CORRENTE NO BANCO DO BRASIL',\n",
       "  '1',\n",
       "  '08/09/2016',\n",
       "  '18:43:44']]"
      ]
     },
     "execution_count": 56,
     "metadata": {},
     "output_type": "execute_result"
    }
   ],
   "source": [
    "columns.take(2)"
   ]
  },
  {
   "cell_type": "code",
   "execution_count": 83,
   "metadata": {
    "collapsed": false
   },
   "outputs": [
    {
     "data": {
      "text/plain": [
       "[['09/09/2016',\n",
       "  '19:31:01',\n",
       "  '2016',\n",
       "  'Eleições Municipais 2016',\n",
       "  'CE',\n",
       "  '60000001495',\n",
       "  '51',\n",
       "  'Crédito decorrente de empréstimo',\n",
       "  'CRETIDO',\n",
       "  '150000',\n",
       "  '08/09/2016',\n",
       "  '16:17:11']]"
      ]
     },
     "execution_count": 83,
     "metadata": {},
     "output_type": "execute_result"
    }
   ],
   "source": [
    "columns.sample(False, .001).take(1)"
   ]
  },
  {
   "cell_type": "code",
   "execution_count": null,
   "metadata": {
    "collapsed": true
   },
   "outputs": [],
   "source": []
  },
  {
   "cell_type": "code",
   "execution_count": null,
   "metadata": {
    "collapsed": true
   },
   "outputs": [],
   "source": []
  },
  {
   "cell_type": "code",
   "execution_count": null,
   "metadata": {
    "collapsed": true
   },
   "outputs": [],
   "source": []
  },
  {
   "cell_type": "markdown",
   "metadata": {},
   "source": [
    "## parallelize"
   ]
  },
  {
   "cell_type": "code",
   "execution_count": 63,
   "metadata": {
    "collapsed": false
   },
   "outputs": [],
   "source": [
    "a = sc.parallelize(np.arange(3))"
   ]
  },
  {
   "cell_type": "code",
   "execution_count": 64,
   "metadata": {
    "collapsed": false
   },
   "outputs": [
    {
     "data": {
      "text/plain": [
       "3"
      ]
     },
     "execution_count": 64,
     "metadata": {},
     "output_type": "execute_result"
    }
   ],
   "source": [
    "a.count()"
   ]
  },
  {
   "cell_type": "markdown",
   "metadata": {},
   "source": [
    "## Pseudo set operations"
   ]
  },
  {
   "cell_type": "code",
   "execution_count": 65,
   "metadata": {
    "collapsed": true
   },
   "outputs": [],
   "source": [
    "b = a.flatMap(lambda v: [v, v**2, v**3])"
   ]
  },
  {
   "cell_type": "code",
   "execution_count": 66,
   "metadata": {
    "collapsed": false
   },
   "outputs": [
    {
     "data": {
      "text/plain": [
       "[0, 0, 0, 1, 1, 1, 2, 4, 8]"
      ]
     },
     "execution_count": 66,
     "metadata": {},
     "output_type": "execute_result"
    }
   ],
   "source": [
    "b.collect()"
   ]
  },
  {
   "cell_type": "markdown",
   "metadata": {},
   "source": [
    "### distinct"
   ]
  },
  {
   "cell_type": "code",
   "execution_count": 71,
   "metadata": {
    "collapsed": false
   },
   "outputs": [
    {
     "data": {
      "text/plain": [
       "[0, 8, 4, 1, 2]"
      ]
     },
     "execution_count": 71,
     "metadata": {},
     "output_type": "execute_result"
    }
   ],
   "source": [
    "b.distinct().collect()"
   ]
  },
  {
   "cell_type": "markdown",
   "metadata": {},
   "source": [
    "### union"
   ]
  },
  {
   "cell_type": "code",
   "execution_count": 68,
   "metadata": {
    "collapsed": true
   },
   "outputs": [],
   "source": [
    "c = sc.parallelize(np.arange(6))"
   ]
  },
  {
   "cell_type": "code",
   "execution_count": 76,
   "metadata": {
    "collapsed": false
   },
   "outputs": [
    {
     "data": {
      "text/plain": [
       "[0, 1, 2, 3, 4, 5]"
      ]
     },
     "execution_count": 76,
     "metadata": {},
     "output_type": "execute_result"
    }
   ],
   "source": [
    "c.collect()"
   ]
  },
  {
   "cell_type": "code",
   "execution_count": 72,
   "metadata": {
    "collapsed": false
   },
   "outputs": [
    {
     "data": {
      "text/plain": [
       "[0, 1, 2, 3, 4, 5, 0, 0, 0, 1, 1, 1, 2, 4, 8]"
      ]
     },
     "execution_count": 72,
     "metadata": {},
     "output_type": "execute_result"
    }
   ],
   "source": [
    "c.union(b).collect()"
   ]
  },
  {
   "cell_type": "markdown",
   "metadata": {},
   "source": [
    "### intersection"
   ]
  },
  {
   "cell_type": "code",
   "execution_count": 74,
   "metadata": {
    "collapsed": false
   },
   "outputs": [
    {
     "data": {
      "text/plain": [
       "[0, 1, 2, 4]"
      ]
     },
     "execution_count": 74,
     "metadata": {},
     "output_type": "execute_result"
    }
   ],
   "source": [
    "c.intersection(b).collect()\n",
    "# also removes all duplicates (including duplicates from a single RDD) while running"
   ]
  },
  {
   "cell_type": "markdown",
   "metadata": {},
   "source": [
    "### subtract"
   ]
  },
  {
   "cell_type": "code",
   "execution_count": 75,
   "metadata": {
    "collapsed": false
   },
   "outputs": [
    {
     "data": {
      "text/plain": [
       "[3, 5]"
      ]
     },
     "execution_count": 75,
     "metadata": {},
     "output_type": "execute_result"
    }
   ],
   "source": [
    "c.subtract(b).collect()"
   ]
  },
  {
   "cell_type": "markdown",
   "metadata": {},
   "source": [
    "### cartesian"
   ]
  },
  {
   "cell_type": "code",
   "execution_count": 78,
   "metadata": {
    "collapsed": false
   },
   "outputs": [
    {
     "data": {
      "text/plain": [
       "[(0, 0), (0, 0), (0, 0), (0, 1)]"
      ]
     },
     "execution_count": 78,
     "metadata": {},
     "output_type": "execute_result"
    }
   ],
   "source": [
    "c.cartesian(b).take(4)"
   ]
  },
  {
   "cell_type": "markdown",
   "metadata": {},
   "source": [
    "## Actions"
   ]
  },
  {
   "cell_type": "code",
   "execution_count": 85,
   "metadata": {
    "collapsed": false
   },
   "outputs": [],
   "source": [
    "lista_enorme_pra_caramba = sc.parallelize(np.arange(30000))"
   ]
  },
  {
   "cell_type": "code",
   "execution_count": 86,
   "metadata": {
    "collapsed": false
   },
   "outputs": [
    {
     "data": {
      "text/plain": [
       "449985000"
      ]
     },
     "execution_count": 86,
     "metadata": {},
     "output_type": "execute_result"
    }
   ],
   "source": [
    "lista_enorme_pra_caramba.reduce(lambda x,y: x+y)"
   ]
  },
  {
   "cell_type": "code",
   "execution_count": 87,
   "metadata": {
    "collapsed": false
   },
   "outputs": [
    {
     "data": {
      "text/plain": [
       "15"
      ]
     },
     "execution_count": 87,
     "metadata": {},
     "output_type": "execute_result"
    }
   ],
   "source": [
    "c.reduce(lambda x,y: x+y)"
   ]
  },
  {
   "cell_type": "code",
   "execution_count": 92,
   "metadata": {
    "collapsed": false
   },
   "outputs": [
    {
     "data": {
      "text/plain": [
       "30"
      ]
     },
     "execution_count": 92,
     "metadata": {},
     "output_type": "execute_result"
    }
   ],
   "source": [
    "c.fold(3, lambda x,y: x+y)"
   ]
  },
  {
   "cell_type": "code",
   "execution_count": 98,
   "metadata": {
    "collapsed": false
   },
   "outputs": [
    {
     "data": {
      "text/plain": [
       "5292370"
      ]
     },
     "execution_count": 98,
     "metadata": {},
     "output_type": "execute_result"
    }
   ],
   "source": [
    "lines.aggregate(0, lambda acc, line: acc + len(line), lambda acc1,acc2: acc1+acc2)"
   ]
  },
  {
   "cell_type": "code",
   "execution_count": 99,
   "metadata": {
    "collapsed": false
   },
   "outputs": [
    {
     "data": {
      "text/plain": [
       "['\"09/09/2016\";\"19:31:01\";\"2016\";\"Eleições Municipais 2016\";\"CE\";\"60000017097\";\"32\";\"Quotas ou quinhões de capital\";\"100% DAS QUOTAS DE CAPITAL SOCIAL DA EMPRESA VALERIANO MOURAO MORORO EPP\";\"10000\";\"08/09/2016\";\"19:17:03\"',\n",
       " '\"09/09/2016\";\"19:31:01\";\"2016\";\"Eleições Municipais 2016\";\"CE\";\"60000017082\";\"64\";\"Dinheiro em espécie - moeda estrangeira\";\"DINHEIRO EM ESPECIE\";\"500\";\"06/09/2016\";\"19:22:52\"']"
      ]
     },
     "execution_count": 99,
     "metadata": {},
     "output_type": "execute_result"
    }
   ],
   "source": [
    "lines.top(2)"
   ]
  },
  {
   "cell_type": "code",
   "execution_count": 100,
   "metadata": {
    "collapsed": false
   },
   "outputs": [
    {
     "data": {
      "text/plain": [
       "['\"09/09/2016\";\"19:31:01\";\"2016\";\"Eleições Municipais 2016\";\"CE\";\"60000003852\";\"21\";\"Veículo automotor terrestre: caminhão, automóvel, moto, etc.\";\"UM VEICULO ANO 2015/ FIAT PALIO FIRE 2015 - ANO 2015 - DE COR VERMELHO, VALOR DE 34.031,00, SENDO A ENTRADA DE 8.472,20 DE RECURSOS PRÓPRIOS E O RESTANTE FINANCIADO PELA CAIXA ECONÔMICA FEDERAL EM 36\";\"19406.86\";\"08/09/2016\";\"12:37:18\"',\n",
       " '\"09/09/2016\";\"19:31:01\";\"2016\";\"Eleições Municipais 2016\";\"CE\";\"60000009858\";\"21\";\"Veículo automotor terrestre: caminhão, automóvel, moto, etc.\";\"VEICULO AMAROK CD 4X4 HIGH, ADQUIRIDO NA EMPRESA: SAGANOR NORDESTE COMERCIO AUTOMOVEIS E SERVIÇOS LTDA, CNPJ: 07.235.484/0001-05, POR R$ 105.000,00 ENTRADA DE R$ 40.000 E 48 PARCELAS DE R$ 1.950,75\";\"108246.25\";\"04/09/2016\";\"16:20:49\"']"
      ]
     },
     "execution_count": 100,
     "metadata": {},
     "output_type": "execute_result"
    }
   ],
   "source": [
    "lines.top(2, key=len)"
   ]
  },
  {
   "cell_type": "code",
   "execution_count": 101,
   "metadata": {
    "collapsed": false
   },
   "outputs": [
    {
     "data": {
      "text/plain": [
       "['\"09/09/2016\";\"19:31:01\";\"2016\";\"Eleições Municipais 2016\";\"CE\";\"60000003700\";\"13\";\"Terreno\";\"UM TERRENO SITUADO EM TIANGUÁ-CE NA RUA BENJAMIN CAVALCANTE, BAIRRO DO PLANALTO, COM ÁREA TOTAL DE 136M²\";\"5000\";\"06/09/2016\";\"10:35:40\"',\n",
       " '\"09/09/2016\";\"19:31:01\";\"2016\";\"Eleições Municipais 2016\";\"CE\";\"60000011955\";\"61\";\"Depósito bancário em conta corrente no País\";\"SALDO DISPONIVÉL EM 31/07/2016 NO BANCO DO BRASIL C/C: 5.283-3 AG: 4050-9\";\"10523\";\"06/09/2016\";\"14:38:33\"']"
      ]
     },
     "execution_count": 101,
     "metadata": {},
     "output_type": "execute_result"
    }
   ],
   "source": [
    "lines.takeSample(False, 2, 1)"
   ]
  },
  {
   "cell_type": "code",
   "execution_count": 103,
   "metadata": {
    "collapsed": true
   },
   "outputs": [],
   "source": [
    "c.foreach(print) # rs, aparece no console"
   ]
  },
  {
   "cell_type": "code",
   "execution_count": 104,
   "metadata": {
    "collapsed": false
   },
   "outputs": [
    {
     "data": {
      "text/plain": [
       "defaultdict(int,\n",
       "            {'Aeronave': 1,\n",
       "             'Apartamento': 715,\n",
       "             'Aplicação de renda fixa (CDB, RDB e outros)': 262,\n",
       "             'Ações (inclusive as provenientes de linha telefônica)': 59,\n",
       "             'Bem relacionado com o exercício da atividade autônoma': 87,\n",
       "             'Benfeitorias': 25,\n",
       "             'Caderneta de poupança': 753,\n",
       "             'Casa': 3831,\n",
       "             'Construção': 37,\n",
       "             'Consórcio não contemplado': 113,\n",
       "             'Crédito decorrente de alienação': 8,\n",
       "             'Crédito decorrente de empréstimo': 38,\n",
       "             'Depósito bancário em conta corrente no País': 946,\n",
       "             'Depósito bancário em conta corrente no exterior': 2,\n",
       "             'Dinheiro em espécie - moeda estrangeira': 45,\n",
       "             'Dinheiro em espécie - moeda nacional': 2233,\n",
       "             'Direito de autor, de inventor e patente': 4,\n",
       "             'Direito de lavra e assemelhado': 1,\n",
       "             'Embarcação': 41,\n",
       "             'Fundo de ações, inclusive Carteira Livre e Fundo de Investimento no exterior': 11,\n",
       "             'Fundo de capitalização': 96,\n",
       "             'Fundo de investimento financeiro - FIF': 68,\n",
       "             'Galpão': 30,\n",
       "             'Jóia, quadro, objeto de arte, de coleção, antiguidade, etc.': 17,\n",
       "             'Leasing': 4,\n",
       "             'Linha telefônica': 26,\n",
       "             'Loja': 85,\n",
       "             'Mercado futuros, de opções e a termo': 3,\n",
       "             'Ouro, ativo financeiro': 9,\n",
       "             'Outras aplicações e Investimentos': 195,\n",
       "             'Outras participações societárias': 227,\n",
       "             'Outros bens e direitos': 3,\n",
       "             'Outros bens imóveis': 600,\n",
       "             'Outros bens móveis': 516,\n",
       "             'Outros créditos e poupança vinculados': 76,\n",
       "             'Outros depósitos à vista e numerário': 15,\n",
       "             'Outros fundos': 291,\n",
       "             'Poupança para construção ou aquisição de bem imóvel': 20,\n",
       "             'Prédio comercial': 456,\n",
       "             'Prédio residencial': 223,\n",
       "             'Quotas ou quinhões de capital': 742,\n",
       "             'Sala ou conjunto': 49,\n",
       "             'Terra nua': 281,\n",
       "             'Terreno': 3416,\n",
       "             'Título de clube e assemelhado': 17,\n",
       "             'VGBL - Vida Gerador de Benefício Livre': 60,\n",
       "             'Veículo automotor terrestre: caminhão, automóvel, moto, etc.': 9418})"
      ]
     },
     "execution_count": 104,
     "metadata": {},
     "output_type": "execute_result"
    }
   ],
   "source": [
    "columns.map(lambda cols: cols[7]).countByValue()"
   ]
  },
  {
   "cell_type": "code",
   "execution_count": 107,
   "metadata": {
    "collapsed": false
   },
   "outputs": [
    {
     "data": {
      "text/plain": [
       "[['09/09/2016',\n",
       "  '19:31:01',\n",
       "  '2016',\n",
       "  'Eleições Municipais 2016',\n",
       "  'CE',\n",
       "  '60000007189',\n",
       "  '32',\n",
       "  'Quotas ou quinhões de capital',\n",
       "  'QUOTAS NA EMPRESA CMACK',\n",
       "  '20000000',\n",
       "  '06/09/2016',\n",
       "  '10:56:30'],\n",
       " ['09/09/2016',\n",
       "  '19:31:01',\n",
       "  '2016',\n",
       "  'Eleições Municipais 2016',\n",
       "  'CE',\n",
       "  '60000011679',\n",
       "  '32',\n",
       "  'Quotas ou quinhões de capital',\n",
       "  'QUOTAS DE CAPITAL (JUNTO C/ CONJUGUE) COMPESCAL COM. DE PESC. ARAC. LTDA -  CGC 07.108.145/0001-50 CAPITAL SOCIAL AUMENTADO COM LUCROS ACUMULADOS',\n",
       "  '15993630',\n",
       "  '06/09/2016',\n",
       "  '18:22:59']]"
      ]
     },
     "execution_count": 107,
     "metadata": {},
     "output_type": "execute_result"
    }
   ],
   "source": [
    "columns.takeOrdered(2, lambda cols: -1*float(cols[-3]))"
   ]
  },
  {
   "cell_type": "markdown",
   "metadata": {},
   "source": [
    "## Persistence (Caching)"
   ]
  },
  {
   "cell_type": "code",
   "execution_count": 155,
   "metadata": {
    "collapsed": true
   },
   "outputs": [],
   "source": [
    "el_ricoes = columns.map(lambda cols: float(cols[-3]) / 12345)"
   ]
  },
  {
   "cell_type": "code",
   "execution_count": 156,
   "metadata": {
    "collapsed": false
   },
   "outputs": [
    {
     "name": "stdout",
     "output_type": "stream",
     "text": [
      "CPU times: user 16 ms, sys: 0 ns, total: 16 ms\n",
      "Wall time: 169 ms\n"
     ]
    },
    {
     "data": {
      "text/plain": [
       "26155"
      ]
     },
     "execution_count": 156,
     "metadata": {},
     "output_type": "execute_result"
    }
   ],
   "source": [
    "%%time\n",
    "el_ricoes.count()"
   ]
  },
  {
   "cell_type": "code",
   "execution_count": 157,
   "metadata": {
    "collapsed": false
   },
   "outputs": [
    {
     "data": {
      "text/plain": [
       "PythonRDD[150] at RDD at PythonRDD.scala:48"
      ]
     },
     "execution_count": 157,
     "metadata": {},
     "output_type": "execute_result"
    }
   ],
   "source": [
    "el_ricoes.persist(storageLevel=StorageLevel(False, True, False, False, 1))"
   ]
  },
  {
   "cell_type": "code",
   "execution_count": 160,
   "metadata": {
    "collapsed": false
   },
   "outputs": [
    {
     "name": "stdout",
     "output_type": "stream",
     "text": [
      "CPU times: user 4 ms, sys: 4 ms, total: 8 ms\n",
      "Wall time: 66 ms\n"
     ]
    },
    {
     "data": {
      "text/plain": [
       "26155"
      ]
     },
     "execution_count": 160,
     "metadata": {},
     "output_type": "execute_result"
    }
   ],
   "source": [
    "%%time\n",
    "el_ricoes.count()"
   ]
  },
  {
   "cell_type": "code",
   "execution_count": 161,
   "metadata": {
    "collapsed": false
   },
   "outputs": [
    {
     "data": {
      "text/plain": [
       "PythonRDD[150] at RDD at PythonRDD.scala:48"
      ]
     },
     "execution_count": 161,
     "metadata": {},
     "output_type": "execute_result"
    }
   ],
   "source": [
    "el_ricoes.unpersist()"
   ]
  },
  {
   "cell_type": "code",
   "execution_count": 162,
   "metadata": {
    "collapsed": false
   },
   "outputs": [
    {
     "name": "stdout",
     "output_type": "stream",
     "text": [
      "CPU times: user 8 ms, sys: 4 ms, total: 12 ms\n",
      "Wall time: 149 ms\n"
     ]
    },
    {
     "data": {
      "text/plain": [
       "26155"
      ]
     },
     "execution_count": 162,
     "metadata": {},
     "output_type": "execute_result"
    }
   ],
   "source": [
    "%%time\n",
    "el_ricoes.count()"
   ]
  },
  {
   "cell_type": "code",
   "execution_count": null,
   "metadata": {
    "collapsed": true
   },
   "outputs": [],
   "source": []
  }
 ],
 "metadata": {
  "anaconda-cloud": {},
  "kernelspec": {
   "display_name": "Python [conda root]",
   "language": "python",
   "name": "conda-root-py"
  },
  "language_info": {
   "codemirror_mode": {
    "name": "ipython",
    "version": 3
   },
   "file_extension": ".py",
   "mimetype": "text/x-python",
   "name": "python",
   "nbconvert_exporter": "python",
   "pygments_lexer": "ipython3",
   "version": "3.5.2"
  }
 },
 "nbformat": 4,
 "nbformat_minor": 1
}
